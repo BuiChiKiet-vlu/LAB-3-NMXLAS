{
 "cells": [
  {
   "cell_type": "code",
   "execution_count": null,
   "id": "82672747",
   "metadata": {},
   "outputs": [],
   "source": [
    "import numpy as np\n",
    "import imageio.v2 as iio \n",
    "import matplotlib.pylab as plt\n",
    "import scipy.ndimage as nd\n",
    "\n",
    "image_path = (\"exercise/pagoda.jpg\")\n",
    "data = iio.imread(image_path)\n",
    "print(data.shape)\n",
    "\n",
    "#Tăng kích thước hình ngôi chùa lên gấp 5 lần\n",
    "data2 = nd.zoom(data, (5, 5, 1))\n",
    "plt.imshow(data2)\n",
    "plt.show()\n",
    "print(data2.shape)"
   ]
  }
 ],
 "metadata": {},
 "nbformat": 4,
 "nbformat_minor": 5
}
