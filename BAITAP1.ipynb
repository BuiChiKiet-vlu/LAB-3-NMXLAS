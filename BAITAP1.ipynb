{
 "cells": [
  {
   "cell_type": "code",
   "execution_count": null,
   "id": "1e213f4a",
   "metadata": {},
   "outputs": [],
   "source": [
    "import numpy as np\n",
    "import scipy.ndimage as nd\n",
    "import imageio.v2 as iio\n",
    "import  matplotlib.pylab as plt\n",
    "\n",
    "image_path = \"XLB3/exercise/colorful-ripe-tropical-fruits.jpg\"\n",
    "#Đọc ảnh gốc và cắt hình trái kiwi\n",
    "bdata = iio.imread(image_path)\n",
    "bmg = bdata[671:863, 1375:1576] \n",
    "print(bdata.shape) #Dòng này để in kích thước ảnh \n",
    "\n",
    "#Lưu hình trái kiwi vừa cắt ra\n",
    "iio.imsave(\"kiwi.jpg\", bmg)\n",
    "plt.imshow(bmg)\n",
    "plt.show()\n",
    "\n",
    "#Tịnh tiến trái kiwi sang phải 30 pixels\n",
    "data = iio.imread(\"kiwi.jpg\")\n",
    "cdata = nd.shift(data, (0, 30, 0))\n",
    "\n",
    "plt.imshow(cdata)\n",
    "plt.show()"
   ]
  }
 ],
 "metadata": {},
 "nbformat": 4,
 "nbformat_minor": 5
}
