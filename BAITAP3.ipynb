{
 "cells": [
  {
   "cell_type": "code",
   "execution_count": null,
   "id": "cd6677f0",
   "metadata": {},
   "outputs": [],
   "source": [
    "import numpy as np\n",
    "import imageio.v2 as iio \n",
    "import matplotlib.pylab as plt\n",
    "import scipy.ndimage as nd\n",
    "\n",
    "image_path = \"exercise/quang_ninh.jpg\"\n",
    "data = iio.imread(image_path)\n",
    "\n",
    "#Chọn hình chiếc thuyền\n",
    "bmg = data[449:541, 442:694]\n",
    "plt.imshow(bmg)\n",
    "plt.show()\n",
    "rotate1 = nd.rotate(bmg, 45) #Xoay hình chiếc thuyền góc 45 độ\n",
    "plt.imshow(rotate1)\n",
    "plt.show()\n",
    "\n",
    "#Chọn hình ngọn núi\n",
    "bmg2 = data[14:346, 418:704]\n",
    "plt.imshow(bmg2)\n",
    "plt.show()\n",
    "rotate2 = nd.rotate(bmg2, 45) #Xoay hình ngọn núi góc 45 độ\n",
    "plt.imshow(rotate2)\n",
    "plt.show()\n",
    "print(data.shape)\n"
   ]
  }
 ],
 "metadata": {},
 "nbformat": 4,
 "nbformat_minor": 5
}
